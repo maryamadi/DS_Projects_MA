/* Welcome to the SQL mini project. You will carry out this project partly in
the PHPMyAdmin interface, and partly in Jupyter via a Python connection.

This is Tier 1 of the case study, which means that there'll be more guidance for you about how to 
setup your local SQLite connection in PART 2 of the case study. 

The questions in the case study are exactly the same as with Tier 2. 

PART 1: PHPMyAdmin
You will complete questions 1-9 below in the PHPMyAdmin interface. 
Log in by pasting the following URL into your browser, and
using the following Username and Password:

URL: https://sql.springboard.com/
Username: student
Password: learn_sql@springboard

The data you need is in the "country_club" database. This database
contains 3 tables:
    i) the "Bookings" table,
    ii) the "Facilities" table, and
    iii) the "Members" table.

In this case study, you'll be asked a series of questions. You can
solve them using the platform, but for the final deliverable,
paste the code for each solution into this script, and upload it
to your GitHub.

Before starting with the questions, feel free to take your time,
exploring the data, and getting acquainted with the 3 tables. */


/* QUESTIONS 
/* Q1: Some of the facilities charge a fee to members, but some do not.
Write a SQL query to produce a list of the names of the facilities that do. */

SQL query: SELECT name FROM `Facilities` WHERE `membercost`= 0;

OUTPUT: 
name	
Tennis Court 1
Tennis Court 2
Massage Room 1
Massage Room 2
Squash Court

/* Q2: How many facilities do not charge a fee to members? */

SQL query: SELECT COUNT(name) FROM `Facilities` WHERE `membercost`= 0;

OUTPUT:  4

/* Q3: Write an SQL query to show a list of facilities that charge a fee to members,
where the fee is less than 20% of the facility's monthly maintenance cost.
Return the facid, facility name, member cost, and monthly maintenance of the
facilities in question. */

SQL query: SELECT facid, name, membercost, monthlymaintenance FROM Facilities WHERE membercost > 0 AND membercost < (monthlymaintenance * 0.2) LIMIT 0, 30 ;

OUTPUT:

facid	name	membercost	monthlymaintenance	
0	Tennis Court 1	5.0	200
1	Tennis Court 2	5.0	200
4	Massage Room 1	9.9	3000
5	Massage Room 2	9.9	3000
6	Squash Court	3.5	80


/* Q4: Write an SQL query to retrieve the details of facilities with ID 1 and 5.
Try writing the query without using the OR operator. */

SQL query: SELECT * FROM Facilities WHERE facid = 1 OR facid = 5 ORDER BY `Facilities`.`initialoutlay` ASC LIMIT 0, 30 ;

OUTPUT: 

facid	name	membercost	guestcost	initialoutlay	monthlymaintenance	
5	Massage Room 2	9.9	80.0	4000	3000
1	Tennis Court 2	5.0	25.0	8000	200


/* Q5: Produce a list of facilities, with each labelled as
'cheap' or 'expensive', depending on if their monthly maintenance cost is
more than $100. Return the name and monthly maintenance of the facilities
in question. */

SQL query: SELECT name, monthlymaintenance, CASE WHEN monthlymaintenance > 100 THEN 'expensive' ELSE 'cheap' END AS label FROM Facilities LIMIT 0, 30 ;

OUTPUT:

name	monthlymaintenance	label	
Tennis Court 1	200	expensive
Tennis Court 2	200	expensive
Badminton Court	50	cheap
Table Tennis	10	cheap
Massage Room 1	3000	expensive
Massage Room 2	3000	expensive
Squash Court	80	cheap
Snooker Table	15	cheap
Pool Table	15	cheap

/* Q6: You'd like to get the first and last name of the last member(s)
who signed up. Try not to use the LIMIT clause for your solution. */

SQL query: SELECT firstname, surname FROM Members ORDER BY joindate LIMIT 0, 30;

OUTPUT:

firstname	surname	
GUEST	GUEST
Darren	Smith
Tracy	Smith
Tim	Rownam
Janice	Joplette
Gerald	Butters
Burton	Tracy
Nancy	Dare
Tim	Boothe
Ponder	Stibbons
Charles	Owen
David	Jones
Anne	Baker
Jemima	Farrell
Jack	Smith
Florence	Bader
Timothy	Baker
David	Pinker
Matthew	Genting
Anna	Mackenzie
Joan	Coplin
Ramnaresh	Sarwin
Douglas	Jones
Henrietta	Rumney
David	Farrell
Henry	Worthington-Smyth
Millicent	Purview
Hyacinth	Tupperware
John	Hunt
Erica	Crumpet

/* Q7: Produce a list of all members who have used a tennis court.
Include in your output the name of the court, and the name of the member
formatted as a single column. Ensure no duplicate data, and order by
the member name. */

SQL query: SELECT DISTINCT m.firstname, m.surname, f.name (*NB! CONCAT_WS() try this funtion to create a single column)
           FROM Members AS m 
           INNER JOIN Bookings AS b 
           ON m.memid = b.memid 
           INNER JOIN Facilities AS f ON f.facid = b.facid 
           WHERE f.name = 'Tennis Court 1' OR f.name = 'Tennis Court 2' 
           HAVING m.firstname != 'GUEST' 
           ORDER BY m.firstname LIMIT 0, 30;

OUTPUT: 

firstname	surname	name	
Anne	Baker	Tennis Court 2
Anne	Baker	Tennis Court 1
Burton	Tracy	Tennis Court 1
Burton	Tracy	Tennis Court 2
Charles	Owen	Tennis Court 2
Charles	Owen	Tennis Court 1
Darren	Smith	Tennis Court 2
David	Jones	Tennis Court 2
David	Farrell	Tennis Court 1
David	Farrell	Tennis Court 2
David	Jones	Tennis Court 1
David	Pinker	Tennis Court 1
Douglas	Jones	Tennis Court 1
Erica	Crumpet	Tennis Court 1
Florence	Bader	Tennis Court 2
Florence	Bader	Tennis Court 1
Gerald	Butters	Tennis Court 1
Gerald	Butters	Tennis Court 2
Henrietta	Rumney	Tennis Court 2
Jack	Smith	Tennis Court 2
Jack	Smith	Tennis Court 1
Janice	Joplette	Tennis Court 1
Janice	Joplette	Tennis Court 2
Jemima	Farrell	Tennis Court 2
Jemima	Farrell	Tennis Court 1
Joan	Coplin	Tennis Court 1
John	Hunt	Tennis Court 1
John	Hunt	Tennis Court 2
Matthew	Genting	Tennis Court 1
Millicent	Purview	Tennis Court 2

/* Q8: Produce a list of bookings on the day of 2012-09-14 which
will cost the member (or guest) more than $30. Remember that guests have
different costs to members (the listed costs are per half-hour 'slot'), and
the guest user's ID is always 0. Include in your output the name of the
facility, the name of the member formatted as a single column, and the cost.
Order by descending cost, and do not use any subqueries. */

SQL query: SELECT CONCAT_WS ( m.firstname, ' ', m.surname ) AS name, f.name AS facility_name, CASE WHEN firstname = 'GUEST' THEN guestcost * slots ELSE membercost * slots END AS cost, starttime FROM Bookings AS b JOIN Members AS m ON b.memid = m.memid JOIN Facilities f ON b.facid = f.facid WHERE DATE(starttime) ='2012-09-14' AND CASE WHEN firstname = 'GUEST' THEN guestcost * slots ELSE membercost * slots END >30 LIMIT 0, 30 ;

OUTPUT: 

name	facility_name	cost	starttime	
GUESTGUEST	Tennis Court 1	75.0	2012-09-14 16:00:00
GUESTGUEST	Tennis Court 1	75.0	2012-09-14 19:00:00
GUESTGUEST	Tennis Court 2	75.0	2012-09-14 14:00:00
GUESTGUEST	Tennis Court 2	150.0	2012-09-14 17:00:00
GUESTGUEST	Massage Room 1	160.0	2012-09-14 09:00:00
GUESTGUEST	Massage Room 1	160.0	2012-09-14 13:00:00
JemimaFarrell	Massage Room 1	39.6	2012-09-14 14:00:00
GUESTGUEST	Massage Room 1	160.0	2012-09-14 16:00:00
GUESTGUEST	Massage Room 2	320.0	2012-09-14 11:00:00
GUESTGUEST	Squash Court	70.0	2012-09-14 09:30:00
GUESTGUEST	Squash Court	35.0	2012-09-14 12:30:00
GUESTGUEST	Squash Court	35.0	2012-09-14 15:00:00


/* Q9: This time, produce the same result as in Q8, but using a subquery. */

SELECT name, facility, cost 
FROM (SELECT CONCAT_WS (m.firstname, ' ' , m.surname) AS name,
            f.name as facility,
      CASE WHEN m.memid = 0 THEN b.slots * f.guestcost
           ELSE b.slots * f.membercost END AS cost
      FROM Members AS m
      INNER JOIN Bookings AS b
      ON m.memid = b.memid
      INNER JOIN Facilities AS f
      ON b.facid = f.facid
      WHERE DATE (b.starttime) = '2012-09-14' ) as bookings
      HAVING cost > 30)
ORDER BY cost desc;

OUTPUT: 

name	facility	cost	
GUESTGUEST	Massage Room 2	320.0
GUESTGUEST	Massage Room 1	160.0
GUESTGUEST	Massage Room 1	160.0
GUESTGUEST	Massage Room 1	160.0
GUESTGUEST	Tennis Court 2	150.0
GUESTGUEST	Tennis Court 1	75.0
GUESTGUEST	Tennis Court 1	75.0
GUESTGUEST	Tennis Court 2	75.0
GUESTGUEST	Squash Court	70.0
JemimaFarrell	Massage Room 1	39.6
GUESTGUEST	Squash Court	35.0
GUESTGUEST	Squash Court	35.0


/* PART 2: SQLite

/* We now want you to jump over to a local instance of the database on your machine. 

Copy and paste the LocalSQLConnection.py script into an empty Jupyter notebook, and run it. 

Make sure that the SQLFiles folder containing thes files is in your working directory, and
that you haven't changed the name of the .db file from 'sqlite\db\pythonsqlite'.

You should see the output from the initial query 'SELECT * FROM FACILITIES'.

Complete the remaining tasks in the Jupyter interface. If you struggle, feel free to go back
to the PHPMyAdmin interface as and when you need to. 

You'll need to paste your query into value of the 'query1' variable and run the code block again to get an output.
 
QUESTIONS:
/* Q10: Produce a list of facilities with a total revenue less than 1000.
The output of facility name and total revenue, sorted by revenue. Remember
that there's a different cost for guests and members! */


SELECT f.name AS facility_name, 
       SUM(CASE WHEN b.memid = 'GUEST' THEN f.guestcost * b.slots
                ELSE f.membercost * b.slots END) AS total_revenue
        
FROM Bookings AS b
            
            INNER JOIN Facilities AS f
            ON b.facid = f.facid
        GROUP BY f.name
        HAVING total_revenue < 1000
        ORDER BY total_revenue;


/* Q11: Produce a report of members and who recommended them in alphabetic surname,firstname order */

SELECT firstname, surname, recommendedby 
FROM Members
ORDER BY surname, firstname DESC; 

/* Q12: Find the facilities with their usage by member, but not guests */

SELECT f.name, (b.slots * f.membercost) AS cost 
FROM Members AS m
INNER JOIN Bookings AS b
ON m.memid = b.memid
INNER JOIN Facilities AS f
ON b.facid = f.facid
WHERE b.memid != 'GUEST';

/* Q13: Find the facilities usage by month, but not guests */

SELECT MONTH (starttime) AS month, f.name, (b.slots * f.membercost) AS cost 
FROM Members AS m
INNER JOIN Bookings AS b
ON m.memid = b.memid
INNER JOIN Facilities AS f
ON b.facid = f.facid
ORDER by MONTH (starttime);


